{
 "cells": [
  {
   "cell_type": "markdown",
   "metadata": {},
   "source": [
    "https://www.codingame.com/ide/puzzle/unflood-the-world"
   ]
  },
  {
   "cell_type": "code",
   "execution_count": 71,
   "metadata": {},
   "outputs": [],
   "source": [
    "import os\n",
    "import sys\n",
    "module_path = os.path.abspath(os.path.join('..'))\n",
    "if module_path not in sys.path: sys.path.append(module_path)\n",
    "from overwrite_input import *\n",
    "# init_data('t1.txt');\n",
    "init_data('t6.txt');"
   ]
  },
  {
   "cell_type": "code",
   "execution_count": 72,
   "metadata": {},
   "outputs": [],
   "source": [
    "import numpy as np\n",
    "from collections import deque\n",
    "from dataclasses import dataclass\n",
    "\n",
    "W, H = [int(i) for i in input().split()]\n",
    "grid = np.array([list(map(int, input().split())) for _ in range(H)], dtype=np.uint16)\n",
    "directions = np.array([(-1,0),(1,0),(0,-1),(0,1)])\n",
    "\n",
    "# Strat: DFS plateaus, BFS the rest\n",
    "visited = set([None])\n",
    "plateau_root_is_drain = {}\n",
    "q = deque([(0,0)])\n",
    "current_plateau = (None, 0)\n",
    "while q:\n",
    "    crt = q.popleft()\n",
    "    if crt is None: current_plateau = (None, 0)\n",
    "    if crt in visited: continue\n",
    "\n",
    "    if grid[crt] != current_plateau[1]:\n",
    "        current_plateau = (crt, grid[crt])\n",
    "        plateau_root_is_drain[crt] = True\n",
    "        q.appendleft(None)\n",
    "    visited.add(crt)\n",
    "\n",
    "    for nxt in directions + crt:\n",
    "        ny, nx = nxt = tuple(nxt)\n",
    "        if nx < 0 or nx >= W or ny < 0 or ny >= H: continue\n",
    "        if grid[nxt] < current_plateau[1]:\n",
    "            plateau_root_is_drain[current_plateau[0]] = False\n",
    "\n",
    "        if nxt in visited: continue\n",
    "        if grid[nxt] == current_plateau[1]:\n",
    "            q.appendleft(nxt) # DFS\n",
    "        else:\n",
    "            q.append(nxt) # BFS\n",
    "\n",
    "print(sum(plateau_root_is_drain.values()))"
   ]
  }
 ],
 "metadata": {
  "kernelspec": {
   "display_name": "Python 3.10.6 64-bit",
   "language": "python",
   "name": "python3"
  },
  "language_info": {
   "codemirror_mode": {
    "name": "ipython",
    "version": 3
   },
   "file_extension": ".py",
   "mimetype": "text/x-python",
   "name": "python",
   "nbconvert_exporter": "python",
   "pygments_lexer": "ipython3",
   "version": "3.10.6"
  },
  "orig_nbformat": 4,
  "vscode": {
   "interpreter": {
    "hash": "949777d72b0d2535278d3dc13498b2535136f6dfe0678499012e853ee9abcab1"
   }
  }
 },
 "nbformat": 4,
 "nbformat_minor": 2
}
