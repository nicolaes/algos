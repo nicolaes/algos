{
 "cells": [
  {
   "cell_type": "code",
   "execution_count": 24,
   "metadata": {},
   "outputs": [
    {
     "data": {
      "application/vnd.jupyter.widget-view+json": {
       "model_id": "d0bd287d118149b9b7e82a86de3ac5bc",
       "version_major": 2,
       "version_minor": 0
      },
      "text/plain": [
       "interactive(children=(IntSlider(value=10, description='m', max=20), IntSlider(value=10, description='n', max=2…"
      ]
     },
     "metadata": {},
     "output_type": "display_data"
    }
   ],
   "source": [
    "def elder_age(m, n, loss, t):\n",
    "    # m x n, loss, mod\n",
    "    e = 0\n",
    "    for i in range(m):\n",
    "        for j in range(n):\n",
    "            e += max((i ^ j) - loss, 0)\n",
    "            e %= t\n",
    "    return e\n",
    "\n",
    "from ipywidgets import interact, interactive, fixed, interact_manual\n",
    "\n",
    "interact(elder_age, m = (0,20), n = (0,20), loss = fixed(0), t = fixed(1000000))\n",
    "# print(elder_age(7,8,0,1000))\n",
    "\n",
    "from cw_test import test\n",
    "# test.assert_equals(elder_age(8,5,1,100), 5)\n",
    "# test.assert_equals(elder_age(8,8,0,100007), 224)\n",
    "# test.assert_equals(elder_age(25,31,0,100007), 11925)\n",
    "# test.assert_equals(elder_age(5,45,3,1000007), 4323)\n",
    "# test.assert_equals(elder_age(31,39,7,2345), 1586)\n",
    "# test.assert_equals(elder_age(545,435,342,1000007), 808451)"
   ]
  },
  {
   "cell_type": "code",
   "execution_count": 27,
   "metadata": {},
   "outputs": [
    {
     "data": {
      "application/vnd.jupyter.widget-view+json": {
       "model_id": "f0a4e3babc7640fb92bcc87bb3b07c8f",
       "version_major": 2,
       "version_minor": 0
      },
      "text/plain": [
       "interactive(children=(IntSlider(value=32, description='m', max=64), IntSlider(value=32, description='n', max=6…"
      ]
     },
     "metadata": {},
     "output_type": "display_data"
    },
    {
     "data": {
      "text/plain": [
       "<function __main__.elder_table(m, n)>"
      ]
     },
     "execution_count": 27,
     "metadata": {},
     "output_type": "execute_result"
    }
   ],
   "source": [
    "import numpy as np\n",
    "m,n = 54,60\n",
    "\n",
    "def elder_table(m,n):\n",
    "    print('age', elder_age(m,n,0,10000))\n",
    "    g = np.array([[i ^ j for i in range(m)] for j in range(n)])\n",
    "    for i in range(64):\n",
    "        print(''.join([(str(g[i,j]) if i < g.shape[0] and j < g.shape[1] else '-').ljust(3) for j in range(64)]))\n",
    "\n",
    "interact(elder_table, m = (0,64), n = (0,64))"
   ]
  },
  {
   "cell_type": "code",
   "execution_count": 29,
   "metadata": {},
   "outputs": [
    {
     "data": {
      "text/plain": [
       "64"
      ]
     },
     "execution_count": 29,
     "metadata": {},
     "output_type": "execute_result"
    }
   ],
   "source": [
    "g.shape[1]"
   ]
  }
 ],
 "metadata": {
  "kernelspec": {
   "display_name": "Python 3.10.6 64-bit",
   "language": "python",
   "name": "python3"
  },
  "language_info": {
   "codemirror_mode": {
    "name": "ipython",
    "version": 3
   },
   "file_extension": ".py",
   "mimetype": "text/x-python",
   "name": "python",
   "nbconvert_exporter": "python",
   "pygments_lexer": "ipython3",
   "version": "3.10.6"
  },
  "orig_nbformat": 4,
  "vscode": {
   "interpreter": {
    "hash": "949777d72b0d2535278d3dc13498b2535136f6dfe0678499012e853ee9abcab1"
   }
  }
 },
 "nbformat": 4,
 "nbformat_minor": 2
}
