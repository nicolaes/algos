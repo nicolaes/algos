{
 "cells": [
  {
   "cell_type": "code",
   "execution_count": 3,
   "metadata": {},
   "outputs": [
    {
     "data": {
      "text/plain": [
       "125"
      ]
     },
     "execution_count": 3,
     "metadata": {},
     "output_type": "execute_result"
    }
   ],
   "source": [
    "# a * b^n = unchanged\n",
    "def fast_exp_rec(b, n):\n",
    "    if n == 0: return 1\n",
    "    if n % 2 == 0: return fast_exp_rec(b, n // 2) ** 2\n",
    "    return b * fast_exp_rec(b, n-1)\n",
    "\n",
    "def fast_exp(b, n, a = 1):\n",
    "    if n == 0: return a\n",
    "    if n % 2 == 0: return fast_exp(b ** 2, n // 2, a)\n",
    "    return fast_exp(b, n - 1, a * b)\n",
    "\n",
    "fast_exp_rec(5,3)"
   ]
  },
  {
   "cell_type": "code",
   "execution_count": 50,
   "metadata": {},
   "outputs": [
    {
     "name": "stdout",
     "output_type": "stream",
     "text": [
      "mult steps: 235\n",
      "fast steps: 13\n"
     ]
    }
   ],
   "source": [
    "mult_i = 0\n",
    "def mult(a,b):\n",
    "    global mult_i\n",
    "    mult_i += 1\n",
    "\n",
    "    if b == 0: return 0\n",
    "    return a + mult(a, b-1)\n",
    "\n",
    "d = lambda a: a*2\n",
    "h = lambda a: a//2\n",
    "def fast_mult(a,b,acc=0):\n",
    "    global mult_i\n",
    "    mult_i += 1\n",
    "\n",
    "    if b==0: return acc\n",
    "    if b%2==0: return fast_mult(d(a),h(b), acc)\n",
    "    return fast_mult(a,b-1,acc+a)\n",
    "\n",
    "# fast_mult(6,12)\n",
    "\n",
    "mult_i = 0\n",
    "p = 4435,234\n",
    "a = mult(*p)\n",
    "print('mult steps:', mult_i)\n",
    "\n",
    "mult_i = 0\n",
    "b = fast_mult(*p)\n",
    "print('fast steps:',mult_i)\n",
    "assert(a == b)"
   ]
  },
  {
   "cell_type": "code",
   "execution_count": 75,
   "metadata": {},
   "outputs": [
    {
     "name": "stdout",
     "output_type": "stream",
     "text": [
      "34\n"
     ]
    }
   ],
   "source": [
    "# T to be the special case of p = 0 and q = 1\n",
    "# Tpq transforms the pair (a,b) according to\n",
    "# a = bq + aq + ap / b = bp + aq\n",
    "\n",
    "# a0, b0\n",
    "# a1 = b0*q + a0*q + a0*p     b1 = b0*p + a0*q\n",
    "# a2 = b1*q + a1*(p+q)        b2 = b1*p + a1*q\n",
    "# a2 = b0*pq + a0*q^2 +       b2 = b0*p^2 + a0*pq + b0*q^2 + a0*q^2 + a0*pq\n",
    "#      b0*pq + b0*q^2 +       b2 = b0(p^2 + q^2) + a0(q^2 + 2pq)\n",
    "#      a0*pq + a0*q^2 +\n",
    "#      a0*p^2 + a0*pq\n",
    "# a2 = b0(2pq + q^2) +\n",
    "#      a0(p^2 + 2q^2 + 2pq)\n",
    "# a2 = b0(2pq + q^2) + \n",
    "#      a0(2pq + q^2) +\n",
    "#      a0(p^2 + q^2)\n",
    "\n",
    "# p' = p^2 + q^2\n",
    "# q' = q^2 + 2pq\n",
    "\n",
    "# Show that if we apply such a transformation Tpq twice, \n",
    "# the effect is the same as using a single transformation Tp'q' \n",
    "# of the same form, and compute p' and q' in terms of p and q. \n",
    "\n",
    "\n",
    "# (define (fib n)\n",
    "#   (fib-iter 1 0 0 1 n))\n",
    "# (define (fib-iter a b p q count)\n",
    "#   (cond ((= count 0) b)\n",
    "#         ((even? count)\n",
    "#          (fib-iter a\n",
    "#                    b\n",
    "#                    <??>      ; compute p'\n",
    "#                    <??>      ; compute q'\n",
    "#                    (/ count 2)))\n",
    "#         (else (fib-iter (+ (* b q) (* a q) (* a p))\n",
    "#                         (+ (* b p) (* a q))\n",
    "#                         p\n",
    "#                         q\n",
    "#                         (- count 1)))))\n",
    "\n",
    "def fib_iter(a,b,p,q,count):\n",
    "    if count == 0: return b\n",
    "    if count%2 == 0:\n",
    "        return fib_iter(a,b,p**2 + q**2, q**2 + 2*p*q, count // 2)\n",
    "    return fib_iter(b*q + a*q + a*p, b*p + a*q, p, q, count-1)\n",
    "def fib(n):\n",
    "    return fib_iter(1 if n > 0 else -1,0,0,1 if n > 0 else -1,abs(n))\n",
    "\n",
    "print(fib(-9))"
   ]
  }
 ],
 "metadata": {
  "kernelspec": {
   "display_name": "Python 3.10.6 64-bit",
   "language": "python",
   "name": "python3"
  },
  "language_info": {
   "codemirror_mode": {
    "name": "ipython",
    "version": 3
   },
   "file_extension": ".py",
   "mimetype": "text/x-python",
   "name": "python",
   "nbconvert_exporter": "python",
   "pygments_lexer": "ipython3",
   "version": "3.10.6"
  },
  "orig_nbformat": 4,
  "vscode": {
   "interpreter": {
    "hash": "949777d72b0d2535278d3dc13498b2535136f6dfe0678499012e853ee9abcab1"
   }
  }
 },
 "nbformat": 4,
 "nbformat_minor": 2
}
