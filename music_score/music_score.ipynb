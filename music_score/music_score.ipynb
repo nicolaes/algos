{
 "cells": [
  {
   "cell_type": "markdown",
   "metadata": {},
   "source": [
    "#### Music Score\n",
    "https://www.codingame.com/ide/puzzle/music-scores"
   ]
  },
  {
   "cell_type": "code",
   "execution_count": 298,
   "metadata": {},
   "outputs": [],
   "source": [
    "import os\n",
    "import sys\n",
    "module_path = os.path.abspath(os.path.join('..'))\n",
    "if module_path not in sys.path: sys.path.append(module_path)\n",
    "from overwrite_input import *\n",
    "init_data('test_8_Cs.txt');\n",
    "# init_data('test_1.txt');"
   ]
  },
  {
   "cell_type": "code",
   "execution_count": 306,
   "metadata": {},
   "outputs": [],
   "source": [
    "from PIL import Image\n",
    "# display(Image.fromarray(image.astype(np.uint8)*255))\n",
    "\n",
    "pil_image = Image.open('in12.png')\n",
    "image = np.logical_not(np.asarray(pil_image))\n",
    "# display(Image.fromarray(image))\n",
    "init_H, init_W = image.shape"
   ]
  },
  {
   "cell_type": "code",
   "execution_count": 304,
   "metadata": {},
   "outputs": [
    {
     "ename": "Exception",
     "evalue": "End of input",
     "output_type": "error",
     "traceback": [
      "\u001b[0;31m---------------------------------------------------------------------------\u001b[0m",
      "\u001b[0;31mException\u001b[0m                                 Traceback (most recent call last)",
      "Cell \u001b[0;32mIn [304], line 5\u001b[0m\n\u001b[1;32m      2\u001b[0m \u001b[38;5;28;01mfrom\u001b[39;00m \u001b[38;5;21;01mstring\u001b[39;00m \u001b[38;5;28;01mimport\u001b[39;00m ascii_uppercase\n\u001b[1;32m      4\u001b[0m \u001b[38;5;66;03m# Parse image to bool array\u001b[39;00m\n\u001b[0;32m----> 5\u001b[0m init_W, init_H \u001b[38;5;241m=\u001b[39m [\u001b[38;5;28mint\u001b[39m(i) \u001b[38;5;28;01mfor\u001b[39;00m i \u001b[38;5;129;01min\u001b[39;00m \u001b[38;5;28;43minput\u001b[39;49m\u001b[43m(\u001b[49m\u001b[43m)\u001b[49m\u001b[38;5;241m.\u001b[39msplit()]\n\u001b[1;32m      6\u001b[0m enc_img \u001b[38;5;241m=\u001b[39m \u001b[38;5;28minput\u001b[39m()\u001b[38;5;241m.\u001b[39msplit()\n\u001b[1;32m      8\u001b[0m image \u001b[38;5;241m=\u001b[39m np\u001b[38;5;241m.\u001b[39mempty(init_W \u001b[38;5;241m*\u001b[39m init_H, dtype \u001b[38;5;241m=\u001b[39m np\u001b[38;5;241m.\u001b[39mbool_)\n",
      "File \u001b[0;32m~/Projects/algos/overwrite_input.py:17\u001b[0m, in \u001b[0;36minput\u001b[0;34m()\u001b[0m\n\u001b[1;32m     15\u001b[0m \u001b[39mif\u001b[39;00m \u001b[39mnot\u001b[39;00m input_stack \u001b[39mor\u001b[39;00m input_stack[\u001b[39m0\u001b[39m] \u001b[39m==\u001b[39m \u001b[39m'\u001b[39m\u001b[39m'\u001b[39m:\n\u001b[1;32m     16\u001b[0m     init_data(current_filename)\n\u001b[0;32m---> 17\u001b[0m     \u001b[39mraise\u001b[39;00m \u001b[39mException\u001b[39;00m(\u001b[39m'\u001b[39m\u001b[39mEnd of input\u001b[39m\u001b[39m'\u001b[39m)\n\u001b[1;32m     18\u001b[0m \u001b[39mreturn\u001b[39;00m input_stack\u001b[39m.\u001b[39mpopleft()\n",
      "\u001b[0;31mException\u001b[0m: End of input"
     ]
    }
   ],
   "source": [
    "import numpy as np\n",
    "from string import ascii_uppercase\n",
    "\n",
    "# Parse image to bool array\n",
    "init_W, init_H = [int(i) for i in input().split()]\n",
    "enc_img = input().split()\n",
    "\n",
    "image = np.empty(init_W * init_H, dtype = np.bool_)\n",
    "pos = 0\n",
    "for i in range(len(enc_img) // 2):\n",
    "    C = enc_img[i * 2] == 'B'\n",
    "    L = int(enc_img[i * 2 + 1])\n",
    "    image[pos : pos + L] = C\n",
    "    pos += L\n",
    "image = image.reshape(init_H, init_W)\n",
    "image.shape"
   ]
  },
  {
   "cell_type": "code",
   "execution_count": 308,
   "metadata": {},
   "outputs": [
    {
     "data": {
      "image/png": "[encoded data removed]",
      "text/plain": [
       "<PIL.Image.Image image mode=L size=3640x221>"
      ]
     },
     "metadata": {},
     "output_type": "display_data"
    }
   ],
   "source": [
    "\n",
    "# Store staff parameters -> remove staff\n",
    "for i in range(init_W):\n",
    "    col = image[:, i]\n",
    "    if not col.any(): continue\n",
    "\n",
    "    staff_pos = col.nonzero()\n",
    "    staff_l0 = staff_pos[0][0]\n",
    "    staff_spacing = np.max(np.diff(staff_pos)) - 1\n",
    "    break\n",
    "\n",
    "image = np.delete(image[:, i:], staff_pos, axis=0)\n",
    "\n",
    "# Remove tails\n",
    "tail_pos = np.sum(image, axis = 0) > (staff_spacing * 1.5)\n",
    "image = np.delete(image, tail_pos, axis=1)\n",
    "H, W = image.shape\n",
    "\n",
    "\n",
    "display(Image.fromarray(image[:, i:].astype(np.uint8)*255))"
   ]
  },
  {
   "cell_type": "code",
   "execution_count": 319,
   "metadata": {},
   "outputs": [
    {
     "data": {
      "image/png": "[encoded data removed]",
      "text/plain": [
       "<PIL.Image.Image image mode=L size=3650x217>"
      ]
     },
     "metadata": {},
     "output_type": "display_data"
    }
   ],
   "source": [
    "\n",
    "# find C-note\n",
    "C_line_max = staff_l0 + int(staff_spacing * 5.5)\n",
    "catch_Cs = image[C_line_max]\n",
    "\n",
    "# print(staff_l0, staff_spacing)\n",
    "\n",
    "# backward search for beginning of first C note (forward search connects with other notes in test #11)\n",
    "if catch_Cs.any():\n",
    "    C_col = np.nonzero(catch_Cs)[0][staff_spacing // 3]\n",
    "    for col in range(C_col, C_col - staff_spacing, -1):\n",
    "        column_with_C = image[:, col]\n",
    "        crt_C_line_max = np.nonzero(column_with_C)[0][-1] if np.any(column_with_C) else None\n",
    "        if crt_C_line_max is None or abs(C_line_max - crt_C_line_max) > (staff_spacing * 0.25):\n",
    "            break\n",
    "        C_line_max = crt_C_line_max\n",
    "\n",
    "    # remove skewer of all Cs\n",
    "    C_line_min = np.nonzero(image[:, col + 1])[0][0]\n",
    "    C_staff_pos = np.zeros(H, dtype = np.bool_)\n",
    "    C_staff_pos[C_line_min : C_line_max + 1] = True\n",
    "    no_Cs_image = np.delete(image, C_staff_pos, axis=0)\n",
    "    # H, W = image.shape\n"
   ]
  },
  {
   "cell_type": "code",
   "execution_count": null,
   "metadata": {},
   "outputs": [],
   "source": [
    "\n",
    "\n",
    "# sum heights > record increase and decrease > use middle of boundaries to determine note\n",
    "note_cols = (np.sum(image, axis = 0) == 0).astype(np.int8)\n",
    "note_borders = note_cols[:-1] - note_cols[1:]\n",
    "\n",
    "# Middle columns of notes\n",
    "note_starts, = np.nonzero(note_borders == 1)\n",
    "note_ends, = np.nonzero(note_borders == -1)\n",
    "note_pos_cols = (note_starts + note_ends) // 2\n",
    "note_cols = image[:, note_pos_cols]\n",
    "\n",
    "# Get note names and lengths\n",
    "note_names = (ascii_uppercase[2:7] + ascii_uppercase[0:7])[::-1]\n",
    "notes = []\n",
    "for c in note_cols.T:\n",
    "    note_start_line = c.tolist().index(True)\n",
    "    n = (note_start_line - staff_l0 + staff_spacing) * 2 / staff_spacing\n",
    "    note_name = note_names[round(n)]\n",
    "    note_length = 'Q' if round(sum(c) / staff_spacing) else 'H'\n",
    "    notes.append(note_name + note_length)\n",
    "print(' '.join(notes))\n"
   ]
  }
 ],
 "metadata": {
  "kernelspec": {
   "display_name": "Python 3.10.6 64-bit",
   "language": "python",
   "name": "python3"
  },
  "language_info": {
   "codemirror_mode": {
    "name": "ipython",
    "version": 3
   },
   "file_extension": ".py",
   "mimetype": "text/x-python",
   "name": "python",
   "nbconvert_exporter": "python",
   "pygments_lexer": "ipython3",
   "version": "3.10.6"
  },
  "orig_nbformat": 4,
  "vscode": {
   "interpreter": {
    "hash": "949777d72b0d2535278d3dc13498b2535136f6dfe0678499012e853ee9abcab1"
   }
  }
 },
 "nbformat": 4,
 "nbformat_minor": 2
}
