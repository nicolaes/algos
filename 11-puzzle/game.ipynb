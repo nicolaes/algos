{
 "cells": [
  {
   "cell_type": "markdown",
   "metadata": {},
   "source": [
    "https://www.codingame.com/training/hard/11-puzzle"
   ]
  },
  {
   "cell_type": "code",
   "execution_count": 47,
   "metadata": {},
   "outputs": [],
   "source": [
    "import os\n",
    "import sys\n",
    "module_path = os.path.abspath(os.path.join('..'))\n",
    "if module_path not in sys.path: sys.path.append(module_path)\n",
    "from overwrite_input import *\n",
    "init_data('38.txt');"
   ]
  },
  {
   "cell_type": "code",
   "execution_count": 48,
   "metadata": {},
   "outputs": [
    {
     "name": "stderr",
     "output_type": "stream",
     "text": [
      "1  3  10 8 \n",
      "7  11 5  0 \n",
      "6  9  4  2 \n"
     ]
    }
   ],
   "source": [
    "import sys\n",
    "import math\n",
    "from typing import Dict, Tuple\n",
    "from queue import PriorityQueue\n",
    "from dataclasses import dataclass, field\n",
    "\n",
    "def log(*args):\n",
    "    print(*args, file=sys.stderr, flush=True)\n",
    "\n",
    "def draw(p: Dict):\n",
    "    for i in range(3):\n",
    "        log(' '.join([str(p[i, j]).ljust(2) for j in range(4)]))\n",
    "\n",
    "\n",
    "zero_at = 0, 0\n",
    "picture = {}\n",
    "for row in range(3):\n",
    "    for col, tile in enumerate(input().split()):\n",
    "        t = int(tile)\n",
    "        picture[(row, col)] = t\n",
    "        if t == 0: zero_at = (row, col)\n",
    "orig_zero_at = zero_at\n",
    "draw(picture)\n",
    "\n"
   ]
  },
  {
   "cell_type": "code",
   "execution_count": 49,
   "metadata": {},
   "outputs": [
    {
     "name": "stdout",
     "output_type": "stream",
     "text": [
      "0 3\n",
      "0 2\n",
      "0 1\n",
      "1 1\n",
      "1 0\n",
      "2 0\n",
      "2 1\n",
      "2 2\n",
      "1 2\n",
      "1 1\n",
      "2 1\n",
      "2 2\n",
      "1 2\n",
      "1 3\n",
      "0 3\n",
      "0 2\n",
      "0 1\n",
      "1 1\n",
      "1 2\n",
      "2 2\n",
      "2 3\n",
      "1 3\n",
      "1 2\n",
      "0 2\n",
      "0 3\n",
      "1 3\n",
      "1 2\n",
      "2 2\n",
      "2 3\n",
      "1 3\n",
      "0 3\n",
      "0 2\n",
      "0 1\n",
      "1 1\n",
      "1 0\n",
      "0 0\n",
      "0 1\n",
      "0 2\n",
      "1 2\n",
      "1 1\n",
      "1 0\n",
      "0 0\n",
      "0 1\n",
      "1 1\n",
      "2 1\n",
      "2 0\n",
      "1 0\n",
      "0 0\n"
     ]
    }
   ],
   "source": [
    "zero_at = orig_zero_at\n",
    "\n",
    "@dataclass(order=True)\n",
    "class Step:\n",
    "    cost: int\n",
    "    picture: Dict = field(compare=False)\n",
    "    zero_at: Tuple = field(compare=False)\n",
    "    steps: str = field(compare=False)\n",
    "dirs = {'v':(-1,0),'^':(1,0),'>':(0,-1),'<':(0,1)}\n",
    "\n",
    "target_signature = ''.join(map(str, range(12)))\n",
    "signature = lambda pic: ''.join(map(str, pic.values()))\n",
    "# diff = lambda pic: sum([abs(loc[0] - (tile // 4)) + abs(loc[1] - (tile % 4)) for loc, tile in pic.items()])\n",
    "# diff = lambda pic: sum([abs(loc[0] * 4 + loc[1] - tile) for loc, tile in pic.items()])\n",
    "diff = lambda pic: sum([abs(loc[0] - (tile // 4)) ** 2 + abs(loc[1] - (tile % 4)) ** 2 for loc, tile in pic.items()])\n",
    "\n",
    "# A*\n",
    "winning_steps = ''\n",
    "visited = set()\n",
    "q: PriorityQueue[Step] = PriorityQueue()\n",
    "diff_chart_v3 = []\n",
    "\n",
    "step_count_chart = []\n",
    "cost_chart = []\n",
    "diff_chart = []\n",
    "\n",
    "root = Step(diff(picture), picture, zero_at, '')\n",
    "q.put(root)\n",
    "visited.add(signature(picture))\n",
    "while not q.empty():\n",
    "    crt = q.get()\n",
    "\n",
    "    zr, zc = crt.zero_at\n",
    "    for direction in dirs:\n",
    "        dr, dc = dirs[direction]\n",
    "        moved_r, moved_c = zr + dr, zc + dc\n",
    "        if not 0 <= moved_r < 3 or not 0 <= moved_c < 4:\n",
    "            continue\n",
    "\n",
    "        # Do the move\n",
    "        next_zero_at = moved_r, moved_c\n",
    "        next_pic = crt.picture.copy()\n",
    "        next_pic[crt.zero_at] = next_pic[next_zero_at]\n",
    "        next_pic[next_zero_at] = 0\n",
    "\n",
    "        next_sig = signature(next_pic)\n",
    "        if next_sig in visited:\n",
    "            continue\n",
    "\n",
    "        # Diff to target pic\n",
    "        next_diff = diff(next_pic)\n",
    "        diff_chart_v3.append(next_diff)\n",
    "\n",
    "        next_steps = crt.steps + direction\n",
    "        if next_diff == 0:\n",
    "            winning_steps = next_steps\n",
    "            q = PriorityQueue()\n",
    "            break\n",
    "        elif len(next_steps) >= 49:\n",
    "            continue\n",
    "\n",
    "        step_count_chart.append(len(next_steps))\n",
    "        diff_chart.append(next_diff)\n",
    "        cost_chart.append(len(next_steps) + next_diff)\n",
    "\n",
    "        # Next step\n",
    "        q.put(Step(\n",
    "            len(next_steps) + next_diff,\n",
    "            next_pic,\n",
    "            next_zero_at,\n",
    "            next_steps\n",
    "        ))\n",
    "        visited.add(next_sig)\n",
    "\n",
    "for direction in winning_steps:\n",
    "    zr, zc = zero_at\n",
    "    dr, dc = dirs[direction]\n",
    "    zero_at = zr + dr, zc + dc\n",
    "    print(f\"{zero_at[0]} {zero_at[1]}\")\n",
    "\n"
   ]
  },
  {
   "cell_type": "code",
   "execution_count": 57,
   "metadata": {},
   "outputs": [
    {
     "data": {
      "image/png": "[encoded data removed]",
      "text/plain": [
       "<Figure size 640x480 with 1 Axes>"
      ]
     },
     "metadata": {},
     "output_type": "display_data"
    }
   ],
   "source": [
    "import matplotlib.pyplot as plt\n",
    "\n",
    "plt.plot(diff_chart_v3[::100])\n",
    "plt.show()"
   ]
  }
 ],
 "metadata": {
  "kernelspec": {
   "display_name": "Python 3.10.6 64-bit",
   "language": "python",
   "name": "python3"
  },
  "language_info": {
   "codemirror_mode": {
    "name": "ipython",
    "version": 3
   },
   "file_extension": ".py",
   "mimetype": "text/x-python",
   "name": "python",
   "nbconvert_exporter": "python",
   "pygments_lexer": "ipython3",
   "version": "3.10.6"
  },
  "orig_nbformat": 4,
  "vscode": {
   "interpreter": {
    "hash": "949777d72b0d2535278d3dc13498b2535136f6dfe0678499012e853ee9abcab1"
   }
  }
 },
 "nbformat": 4,
 "nbformat_minor": 2
}
